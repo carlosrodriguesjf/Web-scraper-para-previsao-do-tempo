{
 "cells": [
  {
   "cell_type": "code",
   "execution_count": 2,
   "metadata": {},
   "outputs": [
    {
     "data": {
      "text/plain": [
       "'\\nFuncionalidades que o projeto deve possuir:\\n1. Navegação Automática:\\n- Abrir um navegador e acessar um site de previsão do tempo(você pode escolher\\n- site)\\n2. Coleta de Dados Meteorológicos:\\n- Extrair a temperatura atual.\\n- Extrair a condição do tempo atual (ex. ensolarado, nublado, etc.).\\n- Extrair a previsão para os próximos 3 dias (temperatura e condição do tempo).\\n3. Tratamento e Formatação de Dados:\\n- Organizar os dados extraídos em um formato legível.\\n4. Envio de E-mail:\\n- Configurar o envio de e-mails.\\n- Criar o conteúdo do e-mail com os dados meteorológicos coletados.\\n- Enviar o e-mail para um destinatário específico.(pode enviar para você mesmo\\ncomo teste)\\n5. Automatização do Envio Diário:\\n- Agendar a execução do script para rodar diariamente em um horário específico.\\n'"
      ]
     },
     "execution_count": 2,
     "metadata": {},
     "output_type": "execute_result"
    }
   ],
   "source": [
    "'''\n",
    "Funcionalidades que o projeto deve possuir:\n",
    "1. Navegação Automática:\n",
    "- Abrir um navegador e acessar um site de previsão do tempo(você pode escolher\n",
    "- site)\n",
    "2. Coleta de Dados Meteorológicos:\n",
    "- Extrair a temperatura atual.\n",
    "- Extrair a condição do tempo atual (ex. ensolarado, nublado, etc.).\n",
    "- Extrair a previsão para os próximos 3 dias (temperatura e condição do tempo).\n",
    "3. Tratamento e Formatação de Dados:\n",
    "- Organizar os dados extraídos em um formato legível.\n",
    "4. Envio de E-mail:\n",
    "- Configurar o envio de e-mails.\n",
    "- Criar o conteúdo do e-mail com os dados meteorológicos coletados.\n",
    "- Enviar o e-mail para um destinatário específico.(pode enviar para você mesmo\n",
    "como teste)\n",
    "5. Automatização do Envio Diário:\n",
    "- Agendar a execução do script para rodar diariamente em um horário específico.\n",
    "'''"
   ]
  },
  {
   "cell_type": "code",
   "execution_count": 3,
   "metadata": {},
   "outputs": [],
   "source": [
    "###1. NAVEGAÇÃO AUTOMÁTICA\n",
    "# Abrir um navegador e acessar um site de previsão do tempo (você pode escolher o site)\n",
    "\n",
    "#Iremos utilizar o site https://www.accuweather.com/"
   ]
  },
  {
   "cell_type": "code",
   "execution_count": 4,
   "metadata": {},
   "outputs": [
    {
     "name": "stdout",
     "output_type": "stream",
     "text": [
      "Abrindo o site...\n"
     ]
    }
   ],
   "source": [
    "#importacoes\n",
    "from selenium import webdriver\n",
    "from selenium.webdriver.chrome.options import Options\n",
    "from selenium.webdriver.common.by import By\n",
    "from time import sleep\n",
    "\n",
    "\n",
    "#abrindo o site\n",
    "print('Abrindo o site...')\n",
    "\n",
    "def iniciar_driver():\n",
    "    chrome_options = Options()\n",
    "\n",
    "    arguments = ['--lang=pt-BR', '--start-maximized','--incognito']\n",
    "\n",
    "    for argument in arguments:\n",
    "        chrome_options.add_argument(argument)\n",
    "\n",
    "    driver = webdriver.Chrome(options=chrome_options)\n",
    "    return driver\n",
    "\n",
    "driver = iniciar_driver()\n",
    "driver.get('https://www.accuweather.com/pt/br/juiz-de-fora/33806/weather-forecast/33806')\n",
    "#input('')"
   ]
  },
  {
   "cell_type": "code",
   "execution_count": 5,
   "metadata": {},
   "outputs": [
    {
     "name": "stdout",
     "output_type": "stream",
     "text": [
      "Coletando as informações...\n",
      "[['2/10', '34°', 'Sol abundante'], ['3/10', '30°', 'Ensolarado'], ['4/10', '24°', 'Mais fresco'], ['5/10', '24°', 'Nublado']]\n"
     ]
    }
   ],
   "source": [
    "###2. COLETA DOS DADOS METEREOLÓGICOS\n",
    "\n",
    "dados_previsao_tempo = []\n",
    "\n",
    "sleep(1)\n",
    "\n",
    "# Coletando as informações:\n",
    "print('Coletando as informações...')\n",
    "for i in range(1,5):\n",
    "\n",
    "    # Coletando as informações de hoje:\n",
    "\n",
    "    # Data de extração\n",
    "    data_extracao = driver.find_element(By.XPATH,f\"//div[@class='daily-list-body']/a[{i}]/div[1]/p[2]\").text\n",
    "\n",
    "    # Extraindo a temperatura atual.\n",
    "    temperatura = driver.find_element(By.XPATH,f\"//div[@class='daily-list-body']/a[{i}]/div[2]//div/span\").text\n",
    "\n",
    "    # Extraindo a condição do tempo atual (ex. ensolarado, nublado, etc.).\n",
    "    condicao_tempo = driver.find_element(By.XPATH,f\"//div[@class='daily-list-body']/a[{i}]/div[3]/p\").text\n",
    "\n",
    "    dados_previsao_tempo.append([data_extracao, temperatura, condicao_tempo])\n",
    "\n",
    "print(dados_previsao_tempo)\n",
    "\n",
    "sleep(2)\n",
    "\n",
    "driver.close()\n"
   ]
  },
  {
   "cell_type": "code",
   "execution_count": 6,
   "metadata": {},
   "outputs": [],
   "source": [
    "###3. TRATAMENTO E FORMATAÇÃO DE DADOS\n",
    "#- Organizar os dados extraídos em um formato legível.\n",
    "\n",
    "relatorio = ''\n",
    "for dia in dados_previsao_tempo:\n",
    "    relatorio += f\"Data: {dia[0]}\\n\"\n",
    "    relatorio += f\"Temperatura: {dia[1]}\\n\"\n",
    "    relatorio += f\"Condições: {dia[2]}\\n\\n\"\n"
   ]
  },
  {
   "cell_type": "code",
   "execution_count": 7,
   "metadata": {},
   "outputs": [
    {
     "name": "stdout",
     "output_type": "stream",
     "text": [
      "Enviando o email...\n",
      "Programa finalizado!\n"
     ]
    }
   ],
   "source": [
    "###4. ENVIO DE E-MAIL\n",
    "#- Configurar o envio de e-mails.\n",
    "\n",
    "import smtplib\n",
    "from email.message import EmailMessage\n",
    "\n",
    "print('Enviando o email...')\n",
    "\n",
    "#configuracoes de login\n",
    "EMAIL_ADDRESS = 'carlosrodriguesjfprojetos@gmail.com'\n",
    "EMAIL_PASSWORD = 'fuybzvqdeuoxyyhx'\n",
    "\n",
    "\n",
    "# Criar e enviar um email\n",
    "mail = EmailMessage()\n",
    "mail['Subject'] = 'Dados previsão do tempo'\n",
    "\n",
    "\n",
    "mail['From'] = EMAIL_ADDRESS\n",
    "mail['To'] = 'carlosrodriguesjf@gmail.com'\n",
    "mail.set_content(relatorio)\n",
    "\n",
    "# Enviar o email\n",
    "with smtplib.SMTP_SSL('smtp.gmail.com',465) as email:\n",
    "    email.login(EMAIL_ADDRESS,EMAIL_PASSWORD)\n",
    "    email.send_message(mail)\n",
    "\n",
    "\n",
    "print('Programa finalizado!')"
   ]
  },
  {
   "cell_type": "code",
   "execution_count": 8,
   "metadata": {},
   "outputs": [],
   "source": [
    "###5. AUTOMATIZAÇÃO DO ENVIO DIÁRIO\n",
    "#- Agendar a execução do script para rodar diariamente em um horário específico.\n",
    "\n",
    "# import schedule\n",
    "\n",
    "# def job():\n",
    "#     print(\"Executando o programa...\")\n",
    "\n",
    "# schedule.every(2).minutes.do(job)\n",
    "\n",
    "# while True:\n",
    "#     schedule.run_pending()\n",
    "#     sleep(1)"
   ]
  }
 ],
 "metadata": {
  "kernelspec": {
   "display_name": "venv",
   "language": "python",
   "name": "python3"
  },
  "language_info": {
   "codemirror_mode": {
    "name": "ipython",
    "version": 3
   },
   "file_extension": ".py",
   "mimetype": "text/x-python",
   "name": "python",
   "nbconvert_exporter": "python",
   "pygments_lexer": "ipython3",
   "version": "3.12.0"
  }
 },
 "nbformat": 4,
 "nbformat_minor": 2
}
