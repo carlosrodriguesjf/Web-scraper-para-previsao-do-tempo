{
 "cells": [
  {
   "cell_type": "code",
   "execution_count": null,
   "metadata": {},
   "outputs": [],
   "source": [
    "'''\n",
    "Funcionalidades que o projeto deve possuir:\n",
    "1. Navegação Automática:\n",
    "- Abrir um navegador e acessar um site de previsão do tempo(você pode escolher\n",
    "- site)\n",
    "2. Coleta de Dados Meteorológicos:\n",
    "- Extrair a temperatura atual.\n",
    "- Extrair a condição do tempo atual (ex. ensolarado, nublado, etc.).\n",
    "- Extrair a previsão para os próximos 3 dias (temperatura e condição do tempo).\n",
    "3. Tratamento e Formatação de Dados:\n",
    "- Organizar os dados extraídos em um formato legível.\n",
    "4. Envio de E-mail:\n",
    "- Configurar o envio de e-mails.\n",
    "- Criar o conteúdo do e-mail com os dados meteorológicos coletados.\n",
    "- Enviar o e-mail para um destinatário específico.(pode enviar para você mesmo\n",
    "como teste)\n",
    "5. Automatização do Envio Diário:\n",
    "- Agendar a execução do script para rodar diariamente em um horário específico.\n",
    "'''"
   ]
  },
  {
   "cell_type": "code",
   "execution_count": 21,
   "metadata": {},
   "outputs": [],
   "source": [
    "###1. NAVEGAÇÃO AUTOMÁTICA\n",
    "# Abrir um navegador e acessar um site de previsão do tempo (você pode escolher o site)\n",
    "\n",
    "#Iremos utilizar o site https://www.accuweather.com/"
   ]
  },
  {
   "cell_type": "code",
   "execution_count": 20,
   "metadata": {},
   "outputs": [
    {
     "name": "stdout",
     "output_type": "stream",
     "text": [
      "Abrindo o site...\n"
     ]
    }
   ],
   "source": [
    "#importacoes\n",
    "from selenium import webdriver\n",
    "from selenium.webdriver.chrome.options import Options\n",
    "from selenium.webdriver.common.by import By\n",
    "from time import sleep\n",
    "\n",
    "\n",
    "#abrindo o site\n",
    "print('Abrindo o site...')\n",
    "\n",
    "def iniciar_driver():\n",
    "    chrome_options = Options()\n",
    "\n",
    "    arguments = ['--lang=pt-BR', '--start-maximized','--incognito']\n",
    "\n",
    "    for argument in arguments:\n",
    "        chrome_options.add_argument(argument)\n",
    "\n",
    "    driver = webdriver.Chrome(options=chrome_options)\n",
    "    return driver\n",
    "\n",
    "driver = iniciar_driver()\n",
    "driver.get('https://www.climatempo.com.br/previsao-do-tempo/15-dias/cidade/152/juizdefora-mg')\n",
    "#input('')"
   ]
  },
  {
   "cell_type": "code",
   "execution_count": 22,
   "metadata": {},
   "outputs": [
    {
     "ename": "InvalidSessionIdException",
     "evalue": "Message: invalid session id\nStacktrace:\n\tGetHandleVerifier [0x00007FF71B23B125+29573]\n\t(No symbol) [0x00007FF71B1AFF50]\n\t(No symbol) [0x00007FF71B06B519]\n\t(No symbol) [0x00007FF71B0B0424]\n\t(No symbol) [0x00007FF71B0E71A9]\n\t(No symbol) [0x00007FF71B0E0CD8]\n\t(No symbol) [0x00007FF71B0DFEAD]\n\t(No symbol) [0x00007FF71B033D75]\n\tGetHandleVerifier [0x00007FF71B56C76D+3377613]\n\tGetHandleVerifier [0x00007FF71B5B7B67+3685831]\n\tGetHandleVerifier [0x00007FF71B5ACF8B+3641835]\n\tGetHandleVerifier [0x00007FF71B2FB2A6+816390]\n\t(No symbol) [0x00007FF71B1BB25F]\n\t(No symbol) [0x00007FF71B032837]\n\tGetHandleVerifier [0x00007FF71B61C348+4097448]\n\tBaseThreadInitThunk [0x00007FFAB3AE7374+20]\n\tRtlUserThreadStart [0x00007FFAB56FCC91+33]\n",
     "output_type": "error",
     "traceback": [
      "\u001b[1;31m---------------------------------------------------------------------------\u001b[0m",
      "\u001b[1;31mInvalidSessionIdException\u001b[0m                 Traceback (most recent call last)",
      "Cell \u001b[1;32mIn[22], line 10\u001b[0m\n\u001b[0;32m      7\u001b[0m sleep(\u001b[38;5;241m2\u001b[39m)\n\u001b[0;32m      9\u001b[0m \u001b[38;5;66;03m# Data de extração\u001b[39;00m\n\u001b[1;32m---> 10\u001b[0m data_extracao \u001b[38;5;241m=\u001b[39m \u001b[43mdriver\u001b[49m\u001b[38;5;241;43m.\u001b[39;49m\u001b[43mfind_element\u001b[49m\u001b[43m(\u001b[49m\u001b[43mBy\u001b[49m\u001b[38;5;241;43m.\u001b[39;49m\u001b[43mXPATH\u001b[49m\u001b[43m,\u001b[49m\u001b[38;5;124;43mf\u001b[39;49m\u001b[38;5;124;43m\"\u001b[39;49m\u001b[38;5;124;43m//div[@data-visualization-content=\u001b[39;49m\u001b[38;5;124;43m'\u001b[39;49m\u001b[38;5;124;43mlist\u001b[39;49m\u001b[38;5;124;43m'\u001b[39;49m\u001b[38;5;124;43m][2]/section[1]/div\u001b[39;49m\u001b[38;5;124;43m\"\u001b[39;49m\u001b[43m)\u001b[49m\u001b[38;5;241m.\u001b[39mtext\n\u001b[0;32m     12\u001b[0m \u001b[38;5;66;03m# Extraindo a temperatura atual.\u001b[39;00m\n\u001b[0;32m     13\u001b[0m temperatura \u001b[38;5;241m=\u001b[39m driver\u001b[38;5;241m.\u001b[39mfind_element(By\u001b[38;5;241m.\u001b[39mXPATH,\u001b[38;5;124mf\u001b[39m\u001b[38;5;124m\"\u001b[39m\u001b[38;5;124m//div[@data-visualization-content=\u001b[39m\u001b[38;5;124m'\u001b[39m\u001b[38;5;124mlist\u001b[39m\u001b[38;5;124m'\u001b[39m\u001b[38;5;124m][2]/section[1]/div[2]/div/div/div/div[2]/span\u001b[39m\u001b[38;5;124m\"\u001b[39m)\u001b[38;5;241m.\u001b[39mtext\n",
      "File \u001b[1;32mc:\\projetos\\Web-scraper-para-previsao-do-tempo\\venv\\Lib\\site-packages\\selenium\\webdriver\\remote\\webdriver.py:748\u001b[0m, in \u001b[0;36mWebDriver.find_element\u001b[1;34m(self, by, value)\u001b[0m\n\u001b[0;32m    745\u001b[0m     by \u001b[38;5;241m=\u001b[39m By\u001b[38;5;241m.\u001b[39mCSS_SELECTOR\n\u001b[0;32m    746\u001b[0m     value \u001b[38;5;241m=\u001b[39m \u001b[38;5;124mf\u001b[39m\u001b[38;5;124m'\u001b[39m\u001b[38;5;124m[name=\u001b[39m\u001b[38;5;124m\"\u001b[39m\u001b[38;5;132;01m{\u001b[39;00mvalue\u001b[38;5;132;01m}\u001b[39;00m\u001b[38;5;124m\"\u001b[39m\u001b[38;5;124m]\u001b[39m\u001b[38;5;124m'\u001b[39m\n\u001b[1;32m--> 748\u001b[0m \u001b[38;5;28;01mreturn\u001b[39;00m \u001b[38;5;28;43mself\u001b[39;49m\u001b[38;5;241;43m.\u001b[39;49m\u001b[43mexecute\u001b[49m\u001b[43m(\u001b[49m\u001b[43mCommand\u001b[49m\u001b[38;5;241;43m.\u001b[39;49m\u001b[43mFIND_ELEMENT\u001b[49m\u001b[43m,\u001b[49m\u001b[43m \u001b[49m\u001b[43m{\u001b[49m\u001b[38;5;124;43m\"\u001b[39;49m\u001b[38;5;124;43musing\u001b[39;49m\u001b[38;5;124;43m\"\u001b[39;49m\u001b[43m:\u001b[49m\u001b[43m \u001b[49m\u001b[43mby\u001b[49m\u001b[43m,\u001b[49m\u001b[43m \u001b[49m\u001b[38;5;124;43m\"\u001b[39;49m\u001b[38;5;124;43mvalue\u001b[39;49m\u001b[38;5;124;43m\"\u001b[39;49m\u001b[43m:\u001b[49m\u001b[43m \u001b[49m\u001b[43mvalue\u001b[49m\u001b[43m}\u001b[49m\u001b[43m)\u001b[49m[\u001b[38;5;124m\"\u001b[39m\u001b[38;5;124mvalue\u001b[39m\u001b[38;5;124m\"\u001b[39m]\n",
      "File \u001b[1;32mc:\\projetos\\Web-scraper-para-previsao-do-tempo\\venv\\Lib\\site-packages\\selenium\\webdriver\\remote\\webdriver.py:354\u001b[0m, in \u001b[0;36mWebDriver.execute\u001b[1;34m(self, driver_command, params)\u001b[0m\n\u001b[0;32m    352\u001b[0m response \u001b[38;5;241m=\u001b[39m \u001b[38;5;28mself\u001b[39m\u001b[38;5;241m.\u001b[39mcommand_executor\u001b[38;5;241m.\u001b[39mexecute(driver_command, params)\n\u001b[0;32m    353\u001b[0m \u001b[38;5;28;01mif\u001b[39;00m response:\n\u001b[1;32m--> 354\u001b[0m     \u001b[38;5;28;43mself\u001b[39;49m\u001b[38;5;241;43m.\u001b[39;49m\u001b[43merror_handler\u001b[49m\u001b[38;5;241;43m.\u001b[39;49m\u001b[43mcheck_response\u001b[49m\u001b[43m(\u001b[49m\u001b[43mresponse\u001b[49m\u001b[43m)\u001b[49m\n\u001b[0;32m    355\u001b[0m     response[\u001b[38;5;124m\"\u001b[39m\u001b[38;5;124mvalue\u001b[39m\u001b[38;5;124m\"\u001b[39m] \u001b[38;5;241m=\u001b[39m \u001b[38;5;28mself\u001b[39m\u001b[38;5;241m.\u001b[39m_unwrap_value(response\u001b[38;5;241m.\u001b[39mget(\u001b[38;5;124m\"\u001b[39m\u001b[38;5;124mvalue\u001b[39m\u001b[38;5;124m\"\u001b[39m, \u001b[38;5;28;01mNone\u001b[39;00m))\n\u001b[0;32m    356\u001b[0m     \u001b[38;5;28;01mreturn\u001b[39;00m response\n",
      "File \u001b[1;32mc:\\projetos\\Web-scraper-para-previsao-do-tempo\\venv\\Lib\\site-packages\\selenium\\webdriver\\remote\\errorhandler.py:229\u001b[0m, in \u001b[0;36mErrorHandler.check_response\u001b[1;34m(self, response)\u001b[0m\n\u001b[0;32m    227\u001b[0m         alert_text \u001b[38;5;241m=\u001b[39m value[\u001b[38;5;124m\"\u001b[39m\u001b[38;5;124malert\u001b[39m\u001b[38;5;124m\"\u001b[39m]\u001b[38;5;241m.\u001b[39mget(\u001b[38;5;124m\"\u001b[39m\u001b[38;5;124mtext\u001b[39m\u001b[38;5;124m\"\u001b[39m)\n\u001b[0;32m    228\u001b[0m     \u001b[38;5;28;01mraise\u001b[39;00m exception_class(message, screen, stacktrace, alert_text)  \u001b[38;5;66;03m# type: ignore[call-arg]  # mypy is not smart enough here\u001b[39;00m\n\u001b[1;32m--> 229\u001b[0m \u001b[38;5;28;01mraise\u001b[39;00m exception_class(message, screen, stacktrace)\n",
      "\u001b[1;31mInvalidSessionIdException\u001b[0m: Message: invalid session id\nStacktrace:\n\tGetHandleVerifier [0x00007FF71B23B125+29573]\n\t(No symbol) [0x00007FF71B1AFF50]\n\t(No symbol) [0x00007FF71B06B519]\n\t(No symbol) [0x00007FF71B0B0424]\n\t(No symbol) [0x00007FF71B0E71A9]\n\t(No symbol) [0x00007FF71B0E0CD8]\n\t(No symbol) [0x00007FF71B0DFEAD]\n\t(No symbol) [0x00007FF71B033D75]\n\tGetHandleVerifier [0x00007FF71B56C76D+3377613]\n\tGetHandleVerifier [0x00007FF71B5B7B67+3685831]\n\tGetHandleVerifier [0x00007FF71B5ACF8B+3641835]\n\tGetHandleVerifier [0x00007FF71B2FB2A6+816390]\n\t(No symbol) [0x00007FF71B1BB25F]\n\t(No symbol) [0x00007FF71B032837]\n\tGetHandleVerifier [0x00007FF71B61C348+4097448]\n\tBaseThreadInitThunk [0x00007FFAB3AE7374+20]\n\tRtlUserThreadStart [0x00007FFAB56FCC91+33]\n"
     ]
    }
   ],
   "source": [
    "# Coletando as informações de hoje:\n",
    "\n",
    "dados_previsao_tempo = []\n",
    "\n",
    "for i in range(1,5):\n",
    "\n",
    "    sleep(2)\n",
    "\n",
    "    # Data de extração\n",
    "    data_extracao = driver.find_element(By.XPATH,f\"//div[@data-visualization-content='list'][2]/section[1]/div\").text\n",
    "\n",
    "    # Extraindo a temperatura atual.\n",
    "    temperatura = driver.find_element(By.XPATH,f\"//div[@data-visualization-content='list'][2]/section[1]/div[2]/div/div/div/div[2]/span\").text\n",
    "\n",
    "    # Extraindo a condição do tempo atual (ex. ensolarado, nublado, etc.).\n",
    "    condicao_tempo = driver.find_element(By.XPATH,f\"//div[@data-visualization-content='list'][2]/section[1]/div[2]/div/p\").text\n",
    "\n",
    "    \n",
    "\n",
    "    dados_previsao_tempo.append([data_extracao.split()[0], temperatura, condicao_tempo])\n",
    "\n",
    "\n",
    "print(dados_previsao_tempo)\n",
    "\n",
    "sleep(2)\n",
    "\n",
    "driver.close()"
   ]
  },
  {
   "cell_type": "code",
   "execution_count": null,
   "metadata": {},
   "outputs": [],
   "source": [
    "###2. COLETA DOS DADOS METEREOLÓGICOS\n",
    "\n",
    "dados_previsao_tempo = []\n",
    "\n",
    "sleep(1)\n",
    "\n",
    "# Coletando as informações:\n",
    "print('Coletando as informações...')\n",
    "for i in range(1,5):\n",
    "\n",
    "    # Coletando as informações de hoje:\n",
    "\n",
    "    # Data de extração\n",
    "    data_extracao = driver.find_element(By.XPATH,f\"//a[@class='daily-list-item '][{i}]/div/p[2]\").text\n",
    "\n",
    "    # Extraindo a temperatura atual.\n",
    "    temperatura = driver.find_element(By.XPATH,f\"//a[@class='daily-list-item '][{i}]/div/div/span\").text\n",
    "\n",
    "    # Extraindo a condição do tempo atual (ex. ensolarado, nublado, etc.).\n",
    "    condicao_tempo = driver.find_element(By.XPATH,f\"//a[@class='daily-list-item '][{i}]/div[@class='phrase']/span/p\").text\n",
    "\n",
    "    dados_previsao_tempo.append([data_extracao, temperatura, condicao_tempo])\n",
    "\n",
    "print(dados_previsao_tempo)\n",
    "\n",
    "sleep(2)\n",
    "\n",
    "driver.close()\n"
   ]
  },
  {
   "cell_type": "code",
   "execution_count": 24,
   "metadata": {},
   "outputs": [],
   "source": [
    "###3. TRATAMENTO E FORMATAÇÃO DE DADOS\n",
    "#- Organizar os dados extraídos em um formato legível.\n",
    "\n",
    "relatorio = ''\n",
    "for dia in dados_previsao_tempo:\n",
    "    relatorio += f\"Data: {dia[0]}\\n\"\n",
    "    relatorio += f\"Temperatura: {dia[1]}\\n\"\n",
    "    relatorio += f\"Condições: {dia[2]}\\n\\n\"\n"
   ]
  },
  {
   "cell_type": "code",
   "execution_count": null,
   "metadata": {},
   "outputs": [],
   "source": [
    "###4. ENVIO DE E-MAIL\n",
    "#- Configurar o envio de e-mails.\n",
    "\n",
    "import smtplib\n",
    "from email.message import EmailMessage\n",
    "\n",
    "print('Enviando o email...')\n",
    "\n",
    "#configuracoes de login\n",
    "EMAIL_ADDRESS = 'carlosrodriguesjfprojetos@gmail.com'\n",
    "EMAIL_PASSWORD = 'fuybzvqdeuoxyyhx'\n",
    "\n",
    "\n",
    "# Criar e enviar um email\n",
    "mail = EmailMessage()\n",
    "mail['Subject'] = 'Dados previsão do tempo'\n",
    "\n",
    "\n",
    "mail['From'] = EMAIL_ADDRESS\n",
    "mail['To'] = 'carlosrodriguesjf@gmail.com'\n",
    "mail.set_content(relatorio)\n",
    "\n",
    "# Enviar o email\n",
    "with smtplib.SMTP_SSL('smtp.gmail.com',465) as email:\n",
    "    email.login(EMAIL_ADDRESS,EMAIL_PASSWORD)\n",
    "    email.send_message(mail)\n",
    "\n",
    "\n",
    "print('Programa finalizado!')"
   ]
  },
  {
   "cell_type": "code",
   "execution_count": 26,
   "metadata": {},
   "outputs": [],
   "source": [
    "###5. AUTOMATIZAÇÃO DO ENVIO DIÁRIO\n",
    "#- Agendar a execução do script para rodar diariamente em um horário específico.\n",
    "\n",
    "# import schedule\n",
    "\n",
    "# def job():\n",
    "#     print(\"Executando o programa...\")\n",
    "\n",
    "# schedule.every(2).minutes.do(job)\n",
    "\n",
    "# while True:\n",
    "#     schedule.run_pending()\n",
    "#     sleep(1)"
   ]
  }
 ],
 "metadata": {
  "kernelspec": {
   "display_name": "venv",
   "language": "python",
   "name": "python3"
  },
  "language_info": {
   "codemirror_mode": {
    "name": "ipython",
    "version": 3
   },
   "file_extension": ".py",
   "mimetype": "text/x-python",
   "name": "python",
   "nbconvert_exporter": "python",
   "pygments_lexer": "ipython3",
   "version": "3.12.0"
  }
 },
 "nbformat": 4,
 "nbformat_minor": 2
}
