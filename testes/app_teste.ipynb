{
 "cells": [
  {
   "cell_type": "code",
   "execution_count": null,
   "metadata": {},
   "outputs": [],
   "source": [
    "'''\n",
    "Funcionalidades que o projeto deve possuir:\n",
    "1. Navegação Automática:\n",
    "- Abrir um navegador e acessar um site de previsão do tempo(você pode escolher\n",
    "- site)\n",
    "2. Coleta de Dados Meteorológicos:\n",
    "- Extrair a temperatura atual.\n",
    "- Extrair a condição do tempo atual (ex. ensolarado, nublado, etc.).\n",
    "- Extrair a previsão para os próximos 3 dias (temperatura e condição do tempo).\n",
    "3. Tratamento e Formatação de Dados:\n",
    "- Organizar os dados extraídos em um formato legível.\n",
    "4. Envio de E-mail:\n",
    "- Configurar o envio de e-mails.\n",
    "- Criar o conteúdo do e-mail com os dados meteorológicos coletados.\n",
    "- Enviar o e-mail para um destinatário específico.(pode enviar para você mesmo\n",
    "como teste)\n",
    "5. Automatização do Envio Diário:\n",
    "- Agendar a execução do script para rodar diariamente em um horário específico.\n",
    "'''"
   ]
  },
  {
   "cell_type": "code",
   "execution_count": null,
   "metadata": {},
   "outputs": [],
   "source": [
    "###1. NAVEGAÇÃO AUTOMÁTICA\n",
    "# Abrir um navegador e acessar um site de previsão do tempo (você pode escolher o site)\n",
    "\n",
    "#Iremos utilizar o site https://www.accuweather.com/"
   ]
  },
  {
   "cell_type": "code",
   "execution_count": null,
   "metadata": {},
   "outputs": [],
   "source": [
    "#importacoes\n",
    "from selenium import webdriver\n",
    "from selenium.webdriver.chrome.options import Options\n",
    "\n",
    "#abrindo o site\n",
    "def iniciar_driver():\n",
    "    chrome_options = Options()\n",
    "\n",
    "    arguments = ['--lang=pt-BR', '--start-maximized','--incognito']\n",
    "\n",
    "    for argument in arguments:\n",
    "        chrome_options.add_argument(argument)\n",
    "\n",
    "    driver = webdriver.Chrome(options=chrome_options)\n",
    "    return driver\n",
    "\n",
    "driver = iniciar_driver()\n",
    "driver.get('https://www.accuweather.com/pt/br/juiz-de-fora/33806/weather-forecast/33806')\n",
    "input('')"
   ]
  },
  {
   "cell_type": "code",
   "execution_count": null,
   "metadata": {},
   "outputs": [],
   "source": [
    "###2. COLETA DOS DADOS METEREOLÓGICOS\n",
    "\n",
    "\n",
    "# Coletando as informações de hoje:\n",
    "# Extraindo a temperatura atual.\n",
    "# Extraindo a condição do tempo atual (ex. ensolarado, nublado, etc.).\n"
   ]
  },
  {
   "cell_type": "code",
   "execution_count": null,
   "metadata": {},
   "outputs": [],
   "source": [
    "# Coletando as informações de amanhã:\n",
    "# Extraindo a temperatura atual.\n",
    "# Extraindo a condição do tempo atual (ex. ensolarado, nublado, etc.)."
   ]
  },
  {
   "cell_type": "code",
   "execution_count": null,
   "metadata": {},
   "outputs": [],
   "source": [
    "# Coletando as informações de depois de amanhã:\n",
    "# Extraindo a temperatura amanhã.\n",
    "# Extraindo a condição do tempo atual (ex. ensolarado, nublado, etc.)."
   ]
  },
  {
   "cell_type": "code",
   "execution_count": null,
   "metadata": {},
   "outputs": [],
   "source": [
    "# Coletando as informações de depois de amanhã:\n",
    "# Extraindo a temperatura depois de amanhã.\n",
    "# Extraindo a condição do tempo atual (ex. ensolarado, nublado, etc.)."
   ]
  },
  {
   "cell_type": "code",
   "execution_count": null,
   "metadata": {},
   "outputs": [],
   "source": [
    "# Coletando as informações de depois do 3º dia:\n",
    "# Extraindo a temperatura do 3º dia.\n",
    "# Extraindo a condição do tempo atual (ex. ensolarado, nublado, etc.)."
   ]
  },
  {
   "cell_type": "code",
   "execution_count": null,
   "metadata": {},
   "outputs": [],
   "source": [
    "###3. TRATAMENTO E FORMATAÇÃO DE DADOS\n",
    "#- Organizar os dados extraídos em um formato legível."
   ]
  },
  {
   "cell_type": "code",
   "execution_count": null,
   "metadata": {},
   "outputs": [],
   "source": [
    "###4. ENVIO DE E-MAIL\n",
    "#- Configurar o envio de e-mails.\n",
    "#- Criar o conteúdo do e-mail com os dados meteorológicos coletados.\n",
    "#- Enviar o e-mail para um destinatário específico.(pode enviar para você mesmo como teste)"
   ]
  },
  {
   "cell_type": "code",
   "execution_count": null,
   "metadata": {},
   "outputs": [],
   "source": [
    "###5. AUTOMATIZAÇÃO DO ENVIO DIÁRIO\n",
    "#- Agendar a execução do script para rodar diariamente em um horário específico."
   ]
  }
 ],
 "metadata": {
  "kernelspec": {
   "display_name": "venv",
   "language": "python",
   "name": "python3"
  },
  "language_info": {
   "codemirror_mode": {
    "name": "ipython",
    "version": 3
   },
   "file_extension": ".py",
   "mimetype": "text/x-python",
   "name": "python",
   "nbconvert_exporter": "python",
   "pygments_lexer": "ipython3",
   "version": "3.12.0"
  }
 },
 "nbformat": 4,
 "nbformat_minor": 2
}
