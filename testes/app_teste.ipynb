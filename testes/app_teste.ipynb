{
 "cells": [
  {
   "cell_type": "code",
   "execution_count": null,
   "metadata": {},
   "outputs": [],
   "source": [
    "'''\n",
    "Funcionalidades que o projeto deve possuir:\n",
    "1. Navegação Automática:\n",
    "- Abrir um navegador e acessar um site de previsão do tempo(você pode escolher\n",
    "- site)\n",
    "2. Coleta de Dados Meteorológicos:\n",
    "- Extrair a temperatura atual.\n",
    "- Extrair a condição do tempo atual (ex. ensolarado, nublado, etc.).\n",
    "- Extrair a previsão para os próximos 3 dias (temperatura e condição do tempo).\n",
    "3. Tratamento e Formatação de Dados:\n",
    "- Organizar os dados extraídos em um formato legível.\n",
    "4. Envio de E-mail:\n",
    "- Configurar o envio de e-mails.\n",
    "- Criar o conteúdo do e-mail com os dados meteorológicos coletados.\n",
    "- Enviar o e-mail para um destinatário específico.(pode enviar para você mesmo\n",
    "como teste)\n",
    "5. Automatização do Envio Diário:\n",
    "- Agendar a execução do script para rodar diariamente em um horário específico.\n",
    "'''"
   ]
  },
  {
   "cell_type": "code",
   "execution_count": null,
   "metadata": {},
   "outputs": [],
   "source": [
    "###1. NAVEGAÇÃO AUTOMÁTICA\n",
    "# Abrir um navegador e acessar um site de previsão do tempo (você pode escolher o site)\n",
    "\n",
    "#Iremos utilizar o site https://www.accuweather.com/"
   ]
  },
  {
   "cell_type": "code",
   "execution_count": 1,
   "metadata": {},
   "outputs": [],
   "source": [
    "#importacoes\n",
    "from selenium import webdriver\n",
    "from selenium.webdriver.chrome.options import Options\n",
    "from selenium.webdriver.common.by import By\n",
    "from time import sleep\n",
    "\n",
    "#abrindo o site\n",
    "def iniciar_driver():\n",
    "    chrome_options = Options()\n",
    "\n",
    "    arguments = ['--lang=pt-BR', '--start-maximized','--incognito']\n",
    "\n",
    "    for argument in arguments:\n",
    "        chrome_options.add_argument(argument)\n",
    "\n",
    "    driver = webdriver.Chrome(options=chrome_options)\n",
    "    return driver\n",
    "\n",
    "driver = iniciar_driver()\n",
    "driver.get('https://www.accuweather.com/pt/br/juiz-de-fora/33806/weather-forecast/33806')\n",
    "#input('')"
   ]
  },
  {
   "cell_type": "code",
   "execution_count": 25,
   "metadata": {},
   "outputs": [
    {
     "name": "stdout",
     "output_type": "stream",
     "text": [
      "28/9\n",
      "23°\n",
      "Nuvens baixas\n",
      "\n",
      "['28/9', '23°', 'Nuvens baixas']\n",
      "29/9\n",
      "24°\n",
      "Predominantemente nublado\n",
      "\n",
      "30/9\n",
      "26°\n",
      "Predominantemente claro\n",
      "\n",
      "1/10\n",
      "30°\n",
      "Céu claro\n",
      "\n",
      "['1/10']\n",
      "['30°']\n",
      "['Céu claro']\n"
     ]
    }
   ],
   "source": [
    "###2. COLETA DOS DADOS METEREOLÓGICOS\n",
    "\n",
    "sleep(1)\n",
    "\n",
    "# Coletando as informações de hoje:\n",
    "\n",
    "# Data de extração\n",
    "data_extracao_hoje = driver.find_element(By.XPATH,\"//a[@class='daily-list-item has-alerts']/div/p[2]\").text\n",
    "\n",
    "print(data_extracao_hoje)\n",
    "\n",
    "# Extraindo a temperatura atual.\n",
    "temperatura_hoje = driver.find_element(By.CLASS_NAME,\"temp-hi\").text\n",
    "\n",
    "print(temperatura_hoje)\n",
    "\n",
    "\n",
    "# Extraindo a condição do tempo atual (ex. ensolarado, nublado, etc.).\n",
    "condicao_tempo_hoje = driver.find_element(By.XPATH,\"//span[@class='night']/p\").text\n",
    "\n",
    "print(f'{condicao_tempo_hoje}\\n')\n",
    "\n",
    "previsoes = [data_extracao_hoje,temperatura_hoje,condicao_tempo_hoje]\n",
    "\n",
    "print(previsoes)\n",
    "\n",
    "# Coletando as informações dos próximos dias:\n",
    "\n",
    "\n",
    "for i in range(1,4):\n",
    "\n",
    "    # Coletando as informações de hoje:\n",
    "\n",
    "    # Data de extração\n",
    "    data_extracao = driver.find_element(By.XPATH,f\"//a[@class='daily-list-item '][{i}]/div/p[2]\").text\n",
    "\n",
    "    print(data_extracao)\n",
    "\n",
    "    # Extraindo a temperatura atual.\n",
    "    temperatura = driver.find_element(By.XPATH,f\"//a[@class='daily-list-item '][{i}]/div/div/span\").text\n",
    "\n",
    "    print(temperatura)\n",
    "\n",
    "    # Extraindo a condição do tempo atual (ex. ensolarado, nublado, etc.).\n",
    "    condicao_tempo = driver.find_element(By.XPATH,f\"//a[@class='daily-list-item '][{i}]/div[@class='phrase']/span/p\").text\n",
    "\n",
    "    print(f'{condicao_tempo}\\n')\n",
    "\n",
    "\n",
    "\n",
    "\n"
   ]
  },
  {
   "cell_type": "code",
   "execution_count": null,
   "metadata": {},
   "outputs": [],
   "source": [
    "###3. TRATAMENTO E FORMATAÇÃO DE DADOS\n",
    "#- Organizar os dados extraídos em um formato legível."
   ]
  },
  {
   "cell_type": "code",
   "execution_count": 20,
   "metadata": {},
   "outputs": [],
   "source": [
    "###4. ENVIO DE E-MAIL\n",
    "#- Configurar o envio de e-mails.\n",
    "\n",
    "import smtplib\n",
    "from email.message import EmailMessage\n",
    "\n",
    "#configuracoes de login\n",
    "\n",
    "EMAIL_ADDRESS = 'carlosrodriguesjfprojetos@gmail.com'\n",
    "EMAIL_PASSWORD = 'fuybzvqdeuoxyyhx'\n",
    "\n",
    "\n",
    "# Criar e enviar um email\n",
    "mail = EmailMessage()\n",
    "mail['Subject'] = 'Dados sobre a previsão do tempo'\n",
    "mensagem = '''\n",
    "\n",
    "Olá seu pacote acaba de chegar no correios, favor ir buscar até amanhã\n",
    "Seu código de rastreio é XVB155125C2\n",
    "\n",
    "'''\n",
    "mail['From'] = EMAIL_ADDRESS\n",
    "mail['To'] = 'carlosrodriguesjf@gmail.com'\n",
    "mail.add_header('Content-Type','text/html')\n",
    "mail.set_payload(mensagem.encode('ISO-8859-1'))\n",
    "\n",
    "# Enviar o email\n",
    "with smtplib.SMTP_SSL('smtp.gmail.com',465) as email:\n",
    "    email.login(EMAIL_ADDRESS,EMAIL_PASSWORD)\n",
    "    email.send_message(mail)"
   ]
  },
  {
   "cell_type": "code",
   "execution_count": null,
   "metadata": {},
   "outputs": [],
   "source": [
    "###5. AUTOMATIZAÇÃO DO ENVIO DIÁRIO\n",
    "#- Agendar a execução do script para rodar diariamente em um horário específico."
   ]
  }
 ],
 "metadata": {
  "kernelspec": {
   "display_name": "venv",
   "language": "python",
   "name": "python3"
  },
  "language_info": {
   "codemirror_mode": {
    "name": "ipython",
    "version": 3
   },
   "file_extension": ".py",
   "mimetype": "text/x-python",
   "name": "python",
   "nbconvert_exporter": "python",
   "pygments_lexer": "ipython3",
   "version": "3.12.0"
  }
 },
 "nbformat": 4,
 "nbformat_minor": 2
}
